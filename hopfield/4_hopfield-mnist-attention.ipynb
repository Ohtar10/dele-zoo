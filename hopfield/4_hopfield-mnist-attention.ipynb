{
 "cells": [
  {
   "cell_type": "markdown",
   "metadata": {},
   "source": [
    "# Hopfield - Self-attention\n",
    "The update of the new energy function (notebook [3_hopfield-continuous-value.ipynb](./3_hopfield-continuous-value.ipynb)) is the self-attention of transformer networks.\n",
    "\n",
    "References:\n",
    "* https://ml-jku.github.io/hopfield-layers/#update"
   ]
  },
  {
   "cell_type": "markdown",
   "metadata": {},
   "source": [
    "From equation:\n",
    "$$\n",
    "\\xi^{new} = X\\mathrm{softmax}(\\beta X^T \\xi)\n",
    "$$\n",
    "\n",
    "For $S$ state patterns $\\Xi=(\\xi_1,...,\\xi_s)$, the equation can be generalized to:\n",
    "$$\n",
    "\\Xi^{\\mathrm{new}} = X\\mathrm{softmax}(\\beta X^T\\Xi)\n",
    "$$\n",
    "\n",
    "Where $X^T$ can be considered as $N$ *raw **stored** patterns* $Y=(y_1,...y_N)^T$, which are mapped to an associative space via $W_K$, and $\\Xi^T$ as $S$ *raw **state** patterns* $R=(\\xi_1,...,\\xi_S)^T$, which are mapped to an associative space via $W_Q$.\n",
    "\n",
    "Then, by setting:\n",
    "$$\n",
    "Q = \\Xi^T = RW_Q \\\\\n",
    "K = X^T = YW_K \\\\\n",
    "\\beta = \\frac{1}{\\sqrt{d_k}}\n",
    "$$\n",
    "\n",
    "we obtain:\n",
    "$$\n",
    "(Q^{\\mathrm{new}})^T = K^T \\mathrm{softmax}(\\frac{1}{\\sqrt{d_k}}KQ^T)\n",
    "$$\n",
    "\n",
    "Where $W_Q$ and $W_K$ are matrices which map the respective patterns into the associative space. In the previous equation, the softmax is applied column-wise tot he matrix $KQ^T$. By transposing the equation, which also means softmax is now applied row-wise to its transposed input $QK^T$, we obtain:\n",
    "\n",
    "$$\n",
    "(Q^{\\mathrm{new}})^T = \\mathrm{softmax}(\\frac{1}{\\sqrt{d_k}}QK^T)K\n",
    "$$\n",
    "\n",
    "Now, by projecting $Q^{new}$ via another projection matrix $W_V$ we obtain:\n",
    "\n",
    "$$\n",
    "Z = Q^{new}W_V = \\mathrm{softmax}(\\frac{1}{\\sqrt{d_k}}QK^T)KW_V = \\mathrm{softmax}(\\frac{1}{\\sqrt{d_k}}QK^T)V\n",
    "$$\n",
    "\n",
    "Which is basically the transformer attention formula (As per Attention is All you need):\n",
    "$$\n",
    "\\mathrm{Attention(Q, K, V)} = \\mathrm{softmax}(\\frac{QK^T}{\\sqrt{d_k}})V\n",
    "$$\n",
    "\n",
    "Some remarks:\n",
    "* Transformer based models usually implement embedding layers before the attention mechanism, i.e., what is feed into the attention mechanism is an embedding of the input/outputs.\n",
    "    * These embeddings have trainable matrices that produces them during training.\n",
    "* In the new Hopfield definition, the matrices that produce the embeddings are explicit in the formula, i.e., matrices $W_Q$, $W_K$, and $W_V$ are the matrices that transform the input/outpus into the associative space that is feed to the attention mechanism.\n",
    "* One differencing aspect of original attention vs Hopfield is the value of $\\beta$ parameter. Original attention fixes this to be dependent on the dimension of the embeddings, which for large values of $d_k$ will yield in smaller $\\beta$, which in turn, as per explained in the new Hopfield paper, means the retrievals will tend to be metastable states or the average of similar patterns which can give us an intuition of why they work and why the concept of \"Attention\".\n",
    "* The new Hopfield definition can be interpreted as a generalization of the attention mechanism.\n",
    "* The result of the retrieval, which is the attention produced from the state patterns against the stored patterns, can be the input to fully connected layers for some classification task.\n",
    "* Similarly, before the attention mechanism, there can be other feature extraction layers s.a. CNNs that will produce vectors for which store/retrieval process can be applied."
   ]
  },
  {
   "cell_type": "markdown",
   "metadata": {},
   "source": [
    "## Hopfield MNIST #1 - Predict using full patterns\n"
   ]
  },
  {
   "cell_type": "code",
   "execution_count": 1,
   "metadata": {},
   "outputs": [],
   "source": [
    "import numpy as np\n",
    "import torch\n",
    "from torchvision.datasets import MNIST\n",
    "from torchvision.transforms import transforms\n",
    "from torch.utils.data import Dataset, DataLoader, SubsetRandomSampler\n",
    "import torch.nn.functional as F\n",
    "\n",
    "random_seed = 1234\n",
    "train_split_fraction = 0.7\n",
    "np.random.seed(random_seed)\n",
    "torch.manual_seed(random_seed)\n",
    "\n",
    "data_transform = transforms.Compose(\n",
    "    [\n",
    "        transforms.ToTensor(),\n",
    "        transforms.Normalize((0.1307,), (0.3081,))\n",
    "    ]\n",
    ")\n",
    "\n",
    "train_set = MNIST(\n",
    "    './mnist-train', \n",
    "    train=True, \n",
    "    download=True, \n",
    "    transform=data_transform,\n",
    "    )\n",
    "\n",
    "test_set = MNIST(\n",
    "    './mnist-test', \n",
    "    train=False, \n",
    "    download=True, \n",
    "    transform=data_transform,\n",
    "    )\n",
    "\n",
    "train_set_size = len(train_set)\n",
    "indices = list(range(train_set_size))\n",
    "np.random.shuffle(indices)\n",
    "split = int(np.floor(train_split_fraction * train_set_size))\n",
    "stored_patterns_idx, train_idx = indices[split:], indices[:split]\n",
    "\n",
    "stored_patterns_sampler = SubsetRandomSampler(stored_patterns_idx)\n",
    "train_sampler = SubsetRandomSampler(train_idx)\n",
    "\n",
    "train_loader = DataLoader(train_set, batch_size=2048, shuffle=True, num_workers=4)\n",
    "test_loader = DataLoader(test_set, batch_size=2048, shuffle=True, num_workers=4)\n",
    "stored_patterns_loader = DataLoader(train_set, batch_size=split, sampler=stored_patterns_sampler)\n",
    "stored_patterns = list(stored_patterns_loader)"
   ]
  },
  {
   "cell_type": "code",
   "execution_count": 2,
   "metadata": {},
   "outputs": [],
   "source": [
    "device = \"cuda\" if torch.cuda.is_available() else \"cpu\"\n",
    "def prepare_device(obj, use_cuda: bool = True):\n",
    "    \"\"\"Prepare device.\n",
    "    Moves the passed object to the appropriate\n",
    "    device.\"\"\"\n",
    "    if use_cuda and torch.cuda.is_available():\n",
    "        return obj.to(\"cuda\")\n",
    "    return obj"
   ]
  },
  {
   "cell_type": "markdown",
   "metadata": {},
   "source": [
    "Simple Hopfield network definition representing the generalized attention mechanism:\n",
    "$$\n",
    "Z = \\mathrm{softmax}(\\beta \\cdot RW_QW_K^TY^T)YW_KW_V\n",
    "$$\n",
    "\n",
    "Where $R$ are the raw state patterns, and $Y$ are the raw stored patterns. Notice that $V$ is represented by $YW_KW_V$ in this case. But the key point is that the model is flexible and either some, all or none of the elements can be trainable ($W$ matrices associated with each element.)"
   ]
  },
  {
   "cell_type": "code",
   "execution_count": 3,
   "metadata": {},
   "outputs": [],
   "source": [
    "import torch.nn as nn\n",
    "import torch\n",
    "\n",
    "class HopfieldNet(nn.Module):\n",
    "    def __init__(\n",
    "        self,\n",
    "        store_dim: int, \n",
    "        hidden_store_dim: int, \n",
    "        state_dim: int, \n",
    "        hidden_state_dim: int, \n",
    "        value_dim: int,\n",
    "        hidden_value_dim: int,\n",
    "        learn_v: bool = False,\n",
    "        dropout_ratio: float = 0.3):\n",
    "        super().__init__()\n",
    "        \n",
    "        self.store_dim = store_dim\n",
    "        self.hidden_store_dim = hidden_store_dim\n",
    "        self.state_dim = state_dim\n",
    "        self.hidden_state_dim = hidden_state_dim\n",
    "        self.value_dim = value_dim\n",
    "        self.hidden_value_dim = hidden_value_dim\n",
    "        self.dropout_ratio = dropout_ratio\n",
    "        self.learn_v = learn_v\n",
    "        self.device = device\n",
    "\n",
    "        self.__init_parameters()\n",
    "    \n",
    "    def __init_parameters(self):\n",
    "        # state patterns\n",
    "        self.WQ = nn.Sequential(\n",
    "            nn.Linear(self.state_dim, self.hidden_state_dim),\n",
    "            nn.Dropout(self.dropout_ratio)\n",
    "        )\n",
    "        # stored patterns\n",
    "        self.WK = nn.Sequential(\n",
    "            nn.Linear(self.store_dim, self.hidden_store_dim),\n",
    "            nn.Dropout(self.dropout_ratio)\n",
    "        )\n",
    "        # value patterns\n",
    "        if self.learn_v:\n",
    "            self.WV = nn.Sequential(\n",
    "                nn.Linear(self.value_dim, self.hidden_value_dim),\n",
    "                nn.Dropout(self.dropout_ratio)                \n",
    "            )\n",
    "        else:\n",
    "            self.WV = nn.Sequential(\n",
    "                nn.Identity()\n",
    "            )\n",
    "\n",
    "    def to(self, device: str):\n",
    "        super().to(device)\n",
    "        self.WQ = self.WQ.to(device)\n",
    "        self.WK = self.WK.to(device)\n",
    "        self.WV = self.WV.to(device)\n",
    "        return self\n",
    "\n",
    "\n",
    "    def forward(self, state_patterns, stored_patterns, value_patterns=None, beta=1.0):\n",
    "        # Normalize inputs to make it work\n",
    "        Q = state_patterns / torch.norm(state_patterns, dim=1, keepdim=True)\n",
    "        K = stored_patterns / torch.norm(stored_patterns, dim=1, keepdim=True)\n",
    "\n",
    "        # RW_Q\n",
    "        Q = self.WQ(Q)\n",
    "        # W_K^TY^T\n",
    "        K = self.WK(K)\n",
    "        # VW_V\n",
    "        V = self.WV(value_patterns)\n",
    "        # Log softmax because we later use CrossEntropyLoss\n",
    "        # which expects logits because it will apply a softmax\n",
    "        # internally. (Pytorch thing)    \n",
    "        Z = torch.log_softmax(beta * Q @ K.T, dim=1) @ V\n",
    "        \n",
    "        return Z "
   ]
  },
  {
   "cell_type": "code",
   "execution_count": 4,
   "metadata": {},
   "outputs": [
    {
     "name": "stdout",
     "output_type": "stream",
     "text": [
      "Total number of parameters in model (W params + bias): 100480\n",
      "=================================================================\n",
      "Layer (type:depth-idx)                   Param #\n",
      "=================================================================\n",
      "HopfieldNet                              --\n",
      "├─Sequential: 1-1                        --\n",
      "│    └─Linear: 2-1                       50,240\n",
      "│    └─Dropout: 2-2                      --\n",
      "├─Sequential: 1-2                        --\n",
      "│    └─Linear: 2-3                       50,240\n",
      "│    └─Dropout: 2-4                      --\n",
      "├─Sequential: 1-3                        --\n",
      "│    └─Identity: 2-5                     --\n",
      "=================================================================\n",
      "Total params: 100,480\n",
      "Trainable params: 100,480\n",
      "Non-trainable params: 0\n",
      "=================================================================\n",
      "HopfieldNet(\n",
      "  (WQ): Sequential(\n",
      "    (0): Linear(in_features=784, out_features=64, bias=True)\n",
      "    (1): Dropout(p=0.2, inplace=False)\n",
      "  )\n",
      "  (WK): Sequential(\n",
      "    (0): Linear(in_features=784, out_features=64, bias=True)\n",
      "    (1): Dropout(p=0.2, inplace=False)\n",
      "  )\n",
      "  (WV): Sequential(\n",
      "    (0): Identity()\n",
      "  )\n",
      ")\n"
     ]
    }
   ],
   "source": [
    "from torchinfo import summary as torch_summary\n",
    "\n",
    "store_dim = 784 # 784 = 28 * 28, i.e., flattened images\n",
    "state_dim = store_dim # stored and state paterns have the same dim\n",
    "value_dim = 10 # the one-hot expected label from the state patterns\n",
    "hidden_store_dim, hidden_state_dim = 64, 64\n",
    "hidden_value_dim = value_dim # We don't need to embeed in a lower dimension the one hot encoding\n",
    "\n",
    "model = HopfieldNet(\n",
    "    store_dim, \n",
    "    hidden_store_dim, \n",
    "    state_dim, \n",
    "    hidden_state_dim, \n",
    "    value_dim, \n",
    "    hidden_value_dim,\n",
    "    dropout_ratio=0.2)\n",
    "model = prepare_device(model)\n",
    "num_params = sum([p.numel() for p in model.parameters()])\n",
    "print(f\"Total number of parameters in model (W params + bias): {num_params}\")\n",
    "print(torch_summary(model))\n",
    "print(model)"
   ]
  },
  {
   "cell_type": "markdown",
   "metadata": {},
   "source": [
    "Shape operations smoke test"
   ]
  },
  {
   "cell_type": "code",
   "execution_count": 5,
   "metadata": {},
   "outputs": [
    {
     "name": "stdout",
     "output_type": "stream",
     "text": [
      "Shape of Result: torch.Size([20, 10])\n"
     ]
    }
   ],
   "source": [
    "sim_raw_state = torch.randn((20, 784)).to(device)\n",
    "sim_raw_stored = torch.randn((200, 784)).to(device)\n",
    "sim_raw_value = torch.randn((200, 10)).to(device)\n",
    "result = model(sim_raw_state, sim_raw_stored, sim_raw_value)\n",
    "print(f\"Shape of Result: {result.shape}\")\n",
    "assert list(result.shape) == [20, 10], \"Result shape doesn't match with the expected result\""
   ]
  },
  {
   "cell_type": "markdown",
   "metadata": {},
   "source": [
    "Define loss, optimizer and evaluation metric"
   ]
  },
  {
   "cell_type": "code",
   "execution_count": 6,
   "metadata": {},
   "outputs": [],
   "source": [
    "import torch.optim as optim\n",
    "import torchmetrics\n",
    "\n",
    "loss_fn = nn.CrossEntropyLoss()\n",
    "optimizer = optim.Adam(model.parameters(), lr=1e-3)\n",
    "metric = torchmetrics.Accuracy()"
   ]
  },
  {
   "cell_type": "markdown",
   "metadata": {},
   "source": [
    "Training & Evaluation loop. During train/eval, a fixed amount of the input batch will be used as true training data and the rest will be used as raw store patterns with their true labels as stored values. The forward pass will produce a vector with the expected one-hot encoded shape and evaluated against the true trainind data labels."
   ]
  },
  {
   "cell_type": "code",
   "execution_count": 7,
   "metadata": {},
   "outputs": [],
   "source": [
    "from tqdm import tqdm\n",
    "import torch.nn.functional as F\n",
    "from tensorboardX import SummaryWriter\n",
    "\n",
    "class Context:\n",
    "    def __init__(self, **kwargs):\n",
    "        self.__dict__.update(kwargs)\n",
    "\n",
    "def train_step(\n",
    "    ctx: Context,\n",
    "    loss_fn, \n",
    "    optimizer):\n",
    "    \"\"\"Train step.\n",
    "    Traverses the dataloader once\n",
    "    and performs updates on each\n",
    "    bach.\"\"\"\n",
    "    total_loss = 0\n",
    "    total_batches = 0\n",
    "    for R, y in ctx.dataloader:\n",
    "        total_batches += 1\n",
    "        batch = prepare_device(R).view(-1, 28 * 28)\n",
    "        y = prepare_device(y)\n",
    "        y_state = y[:ctx.split_size]\n",
    "        y_store = y[ctx.split_size:]\n",
    "        state_patterns = batch[:ctx.split_size]\n",
    "        store_patterns = batch[ctx.split_size:]\n",
    "        value_patterns = F.one_hot(y_store, num_classes=10).to(torch.float32)\n",
    "\n",
    "        optimizer.zero_grad()\n",
    "        pred = model(state_patterns, store_patterns, value_patterns, beta=beta)\n",
    "        loss = loss_fn(pred, y_state)\n",
    "        total_loss += loss\n",
    "        loss.backward()\n",
    "        optimizer.step()\n",
    "        log_gradients(ctx.logger, model, ctx.step)\n",
    "\n",
    "    total_size = len(ctx.dataloader.dataset)\n",
    "    # On every batch, we took split_size examples as store patterns\n",
    "    true_train_size = total_size - ctx.split_size * total_batches\n",
    "    return total_loss / true_train_size\n",
    "\n",
    "\n",
    "def evaluate(\n",
    "    ctx,\n",
    "    metric_fn):\n",
    "    \"\"\"Evaluate.\n",
    "    Calculates the metric on the provided \n",
    "    dataloader\"\"\"\n",
    "    model.eval()\n",
    "    with torch.no_grad():\n",
    "        for R, y in ctx.dataloader:\n",
    "            batch = prepare_device(R).view(-1, 28 * 28)\n",
    "            y = prepare_device(y)\n",
    "            y_state = y[:ctx.split_size]\n",
    "            y_store = y[ctx.split_size:]\n",
    "            state_patterns = batch[:ctx.split_size]\n",
    "            store_patterns = batch[ctx.split_size:]\n",
    "            value_patterns = F.one_hot(y_store, num_classes=10).to(torch.float32)\n",
    "\n",
    "            preds = model(state_patterns, store_patterns, value_patterns, beta=beta).to(\"cpu\")\n",
    "            metric = metric_fn(preds, y_state.to(\"cpu\"))\n",
    "        metric = metric_fn.compute()\n",
    "        metric_fn.reset()\n",
    "    return metric\n",
    "\n",
    "\n",
    "def log_summary(logger: SummaryWriter, loss, metric, step):\n",
    "    logger.add_scalar('loss', loss, global_step=step)\n",
    "    logger.add_scalar('accuracy', metric, global_step=step)\n",
    "    logger.flush()\n",
    "\n",
    "\n",
    "def log_gradients(logger: SummaryWriter, model, step):\n",
    "    for name, p in model.named_parameters():\n",
    "        if p.grad is None:\n",
    "            continue\n",
    "        else:\n",
    "            logger.add_histogram(\n",
    "                tag=f'grads/{name}', \n",
    "                values=p.grad.data.detach().cpu().numpy(),\n",
    "                global_step=step\n",
    "            )\n",
    "    logger.flush()\n",
    "    \n",
    "\n",
    "def train(\n",
    "    epochs, \n",
    "    dataloader, \n",
    "    model,\n",
    "    split_size, \n",
    "    loss_fn, \n",
    "    optimizer, \n",
    "    metric_fn,\n",
    "    beta,\n",
    "    logger: SummaryWriter):\n",
    "\n",
    "    ctx = Context(\n",
    "        dataloader=dataloader,\n",
    "        model=model,\n",
    "        split_size=split_size,\n",
    "        beta=beta,\n",
    "        logger=logger,\n",
    "        step=0\n",
    "    )\n",
    "\n",
    "    model.train()\n",
    "    with tqdm(total=epochs) as progress:\n",
    "        for i in range(epochs):\n",
    "            ctx.step = i\n",
    "            loss = train_step(\n",
    "                ctx,\n",
    "                loss_fn, \n",
    "                optimizer)\n",
    "            metric = evaluate(\n",
    "                ctx,\n",
    "                metric_fn)\n",
    "\n",
    "            log_summary(logger, loss, metric, i)\n",
    "\n",
    "            progress.set_postfix({\n",
    "                        \"loss\": f\"{loss:.4f}\",\n",
    "                        \"accuracy\": f\"{metric:.2f}\"\n",
    "                    })\n",
    "            progress.update()\n",
    "\n",
    "        "
   ]
  },
  {
   "cell_type": "code",
   "execution_count": 8,
   "metadata": {},
   "outputs": [],
   "source": [
    "!rm -rf ./tensorboard"
   ]
  },
  {
   "cell_type": "code",
   "execution_count": 9,
   "metadata": {},
   "outputs": [
    {
     "name": "stderr",
     "output_type": "stream",
     "text": [
      "100%|██████████| 200/200 [42:34<00:00, 12.77s/it, loss=0.0133, accuracy=0.84]\n"
     ]
    }
   ],
   "source": [
    "# from tensorboardX import SummaryWriter\n",
    "from torch.utils.tensorboard import SummaryWriter\n",
    "\n",
    "# beta = 1 / np.sqrt(store_dim) # beta as classic transformers - less performance\n",
    "beta = 4.0\n",
    "with SummaryWriter(log_dir='./tensorboard') as tb_writer:\n",
    "    train(200, train_loader, model, 1024, loss_fn, optimizer, metric, beta, tb_writer)\n"
   ]
  },
  {
   "cell_type": "markdown",
   "metadata": {},
   "source": [
    "Now to evaluate against the test set, we will use the trainset (or part of it) as stored patterns & labels from which the embedding space will be obtained to classify the examples in the test set."
   ]
  },
  {
   "cell_type": "code",
   "execution_count": 10,
   "metadata": {},
   "outputs": [
    {
     "name": "stdout",
     "output_type": "stream",
     "text": [
      "Test Accuracy: 91.9800%\n"
     ]
    }
   ],
   "source": [
    "stored_patterns_K = prepare_device(stored_patterns[0][0].reshape(-1, 28 * 28))\n",
    "stored_patterns_V = prepare_device(F.one_hot(stored_patterns[0][1], num_classes=10).to(torch.float32))\n",
    "beta = 4.0\n",
    "model.eval()\n",
    "with torch.no_grad():\n",
    "    for R, y in test_loader:\n",
    "        batch = prepare_device(R).view(-1, 28 * 28)\n",
    "        preds = model(batch, stored_patterns_K, stored_patterns_V, beta=beta).to(\"cpu\")\n",
    "        m = metric(preds, y)\n",
    "    m = metric.compute()\n",
    "    metric.reset()\n",
    "    print(f\"Test Accuracy: {m:.4%}\")"
   ]
  },
  {
   "cell_type": "markdown",
   "metadata": {},
   "source": [
    "A good 92% in the test set using a fraction of the train set as store patterns. Now let's visualize what the model produces in some examples."
   ]
  },
  {
   "cell_type": "code",
   "execution_count": 11,
   "metadata": {},
   "outputs": [],
   "source": [
    "import matplotlib.pyplot as plt\n",
    "\n",
    "def plot_images(batch, preds, trues, rows=4, cols=4):\n",
    "    images = batch[:rows * cols]\n",
    "    fig, ax = plt.subplots(rows, cols, figsize=(10, 6))\n",
    "    fig.set_facecolor('white')\n",
    "    axes = ax.ravel()\n",
    "    fig.suptitle(\"Model Predictions\")\n",
    "    for idx in range(len(images)):\n",
    "        y_hat = preds[idx]\n",
    "        y = trues[idx]\n",
    "        axes[idx].set_title(f\"$\\hat{{y}}={y_hat}$, $y={y}$\")\n",
    "        axes[idx].imshow(images[idx].reshape(28, 28), cmap='gray')\n",
    "        axes[idx].set_xticks([])\n",
    "        axes[idx].set_yticks([])\n",
    "\n",
    "    plt.tight_layout()\n",
    "    plt.show()\n",
    "    "
   ]
  },
  {
   "cell_type": "code",
   "execution_count": 12,
   "metadata": {},
   "outputs": [
    {
     "data": {
      "image/png": "[encoded data removed]",
      "text/plain": [
       "<Figure size 720x432 with 16 Axes>"
      ]
     },
     "metadata": {},
     "output_type": "display_data"
    }
   ],
   "source": [
    "examples = np.random.randint(0, len(test_set), size=16)\n",
    "batch = torch.stack([test_set[i][0] for i in examples]).reshape(-1, 28 * 28)\n",
    "y = np.array([test_set[i][1] for i in examples])\n",
    "\n",
    "with torch.no_grad():\n",
    "    y_hat = model(prepare_device(batch), stored_patterns_K, stored_patterns_V, beta=beta)\n",
    "    y_hat = torch.argmax(y_hat, dim=1).cpu().numpy()\n",
    "\n",
    "plot_images(batch.cpu().numpy(), y_hat, y)"
   ]
  },
  {
   "cell_type": "markdown",
   "metadata": {},
   "source": [
    "Pretty good huh?"
   ]
  },
  {
   "cell_type": "markdown",
   "metadata": {},
   "source": []
  }
 ],
 "metadata": {
  "interpreter": {
   "hash": "74970075a403ac97ea2d08d0feef9384cc88f994ce83c5f27de81026cb120c7a"
  },
  "kernelspec": {
   "display_name": "Python 3.9.7 ('hopfield-pytorch')",
   "language": "python",
   "name": "python3"
  },
  "language_info": {
   "codemirror_mode": {
    "name": "ipython",
    "version": 3
   },
   "file_extension": ".py",
   "mimetype": "text/x-python",
   "name": "python",
   "nbconvert_exporter": "python",
   "pygments_lexer": "ipython3",
   "version": "3.9.7"
  },
  "orig_nbformat": 4
 },
 "nbformat": 4,
 "nbformat_minor": 2
}
